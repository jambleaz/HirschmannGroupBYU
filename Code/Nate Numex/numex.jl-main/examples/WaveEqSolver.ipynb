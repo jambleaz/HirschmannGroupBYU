{
 "cells": [
  {
   "cell_type": "markdown",
   "id": "476d03d5",
   "metadata": {},
   "source": [
    "# The Wave Equation in 1D\n",
    "\n",
    "This notebook solves the wave equation in 1D and animates the resulting solution.\n",
    "\n",
    "The classical wave equation one dimension and Cartesian coordinates is\n",
    "$$\n",
    "\\frac{\\partial^2 \\phi}{\\partial^2 t} - c^2\\frac{\\partial^2 \\phi}{\\partial^2 x} = 0,\n",
    "$$\n",
    "where $c$ is the wave speed. To simplify the notation, we write define the notation\n",
    "that\n",
    "$$\n",
    "\\phi_{,t} \\equiv \\frac{\\partial \\phi}{\\partial t}.\n",
    "$$\n",
    "\n",
    "To solve this equation numerically, we rewrite this \n",
    "second-order equation as first-order differential equations.  \n",
    "Let's define the first order variables\n",
    "\\begin{align}\n",
    "\\Pi &= \\phi_{,t}\\\\\n",
    "\\Phi &= \\phi_{,x},\n",
    "\\end{align}\n",
    "then the wave equation can be written\n",
    "$$\n",
    "\\Pi_{,t} = c^2\\Phi_{,x}.\n",
    "$$\n",
    "A second equation comes from the integration condition that mixed partial derivatives\n",
    "commute\n",
    "$$\n",
    "\\frac{\\partial^2 \\phi}{\\partial t \\partial x} = \\frac{\\partial^2 \\phi}{\\partial x \\partial t}.\n",
    "$$\n",
    "In first-order form, this condition is\n",
    "$$\n",
    "\\Phi_{,t} = \\Pi_{,x}.\n",
    "$$\n",
    "The system of equations that we will solve is\n",
    "\\begin{align}\n",
    "\\Pi_{,t} &= c\\Phi_{,x}\\\\\n",
    "\\Phi_{,t} &= \\Pi_{,x}.\n",
    "\\end{align}\n",
    "\n"
   ]
  },
  {
   "cell_type": "code",
   "execution_count": 1,
   "id": "e43c3b4c",
   "metadata": {},
   "outputs": [],
   "source": [
    "using Printf\n",
    "using Plots"
   ]
  },
  {
   "cell_type": "code",
   "execution_count": 2,
   "id": "43e45731",
   "metadata": {},
   "outputs": [
    {
     "name": "stderr",
     "output_type": "stream",
     "text": [
      "\u001b[36m\u001b[1m[ \u001b[22m\u001b[39m\u001b[36m\u001b[1mInfo: \u001b[22m\u001b[39mPrecompiling Wave1D [top-level]\n"
     ]
    }
   ],
   "source": [
    "push!(LOAD_PATH,\"../src/wave1D\")\n",
    "using Wave1D"
   ]
  },
  {
   "cell_type": "markdown",
   "id": "abdd5231",
   "metadata": {},
   "source": [
    "### Set simulation parameters here\n",
    "\n",
    "- `nt` = number of time steps \n",
    "- `nx` = number of points in space\n",
    "- `cfl` = Courant condition,  dt = cfl * dx\n",
    "- `bbox` = [xmin, xmax]\n",
    "- `outfreq` = frequency of output in movie"
   ]
  },
  {
   "cell_type": "code",
   "execution_count": 9,
   "id": "847c631b",
   "metadata": {},
   "outputs": [
    {
     "data": {
      "text/plain": [
       "2"
      ]
     },
     "execution_count": 9,
     "metadata": {},
     "output_type": "execute_result"
    }
   ],
   "source": [
    "nt = 1200\n",
    "nx = 101\n",
    "cfl = 0.2\n",
    "bbox = [0.0, 20.0]\n",
    "outfreq = 2"
   ]
  },
  {
   "cell_type": "markdown",
   "id": "8625614f",
   "metadata": {},
   "source": [
    "### Set up the grid\n",
    "\n",
    "- `Grid` = This defines the base grid\n",
    "- `GridFields` = This allocates 2 functions on the grid"
   ]
  },
  {
   "cell_type": "code",
   "execution_count": 10,
   "id": "2422445e",
   "metadata": {},
   "outputs": [],
   "source": [
    "grid = Wave1D.Grid(nx, bbox, cfl)\n",
    "fields = Wave1D.GridFields(2, grid);"
   ]
  },
  {
   "cell_type": "markdown",
   "id": "918e031a",
   "metadata": {},
   "source": [
    "### Set intial data\n",
    "\n",
    "- Here time is set to the initial time\n",
    "- The user provides a routine to set initial data"
   ]
  },
  {
   "cell_type": "code",
   "execution_count": 11,
   "id": "20be67bd",
   "metadata": {},
   "outputs": [],
   "source": [
    "time = [0.0]\n",
    "Wave1D.init_data!(fields)"
   ]
  },
  {
   "cell_type": "markdown",
   "id": "46e4d437",
   "metadata": {},
   "source": [
    "### Evolution\n",
    "\n",
    "To animate the solution, create an animation object\n",
    "\n",
    "    a = Animation()\n",
    "    \n",
    "Then save frames to the animation object\n",
    "\n",
    "    frame(a, plt)\n",
    "    \n",
    "Finally, construct a gif and mp4 from `a`"
   ]
  },
  {
   "cell_type": "code",
   "execution_count": null,
   "id": "e2b31d1a",
   "metadata": {},
   "outputs": [],
   "source": [
    "x = fields.grid.x\n",
    "a = Animation()\n",
    "xrange = (bbox[1],bbox[2])\n",
    "yrange = (-10.0,10.0)\n",
    "\n",
    "for i = 1:nt\n",
    "    #println(\"Step \",time[1])\n",
    "    Wave1D.rk4_step!(Wave1D.waveEqs!, fields, time)\n",
    "    if mod(i,outfreq)==0\n",
    "        plt = plot(x, fields.u[1], xlim=xrange, ylim=yrange, label=\"Pi\", color = :blue)\n",
    "        plt = scatter!(x, fields.u[1], label=\" \", color=:yellow)\n",
    "        plt = plot!(x, fields.u[2], xlim=xrange, ylim=yrange, label=\"Phi\", color = :red)\n",
    "        plt = scatter!(x, fields.u[2], label=\" \", color=:green)\n",
    "        plt = plot!(x, fields.dxu[1], xlim=xrange, ylim=yrange, label=\"dxPi\", color = :blue)\n",
    "        plt = scatter!(x, fields.dxu[1], label=\" \", color=:yellow)\n",
    "        plt = plot!(x, fields.dxu[2], xlim=xrange, ylim=yrange, label=\"dxPhi\", color = :red)\n",
    "        plt = scatter!(x, fields.dxu[2], label=\" \", color=:green)\n",
    "        frame(a, plt)\n",
    "    end\n",
    "end"
   ]
  },
  {
   "cell_type": "code",
   "execution_count": null,
   "id": "c38f8b99",
   "metadata": {
    "scrolled": false
   },
   "outputs": [],
   "source": [
    "#Create a GIF\n",
    "gif(a, \"Pi.gif\")"
   ]
  },
  {
   "cell_type": "code",
   "execution_count": null,
   "id": "4f6fbd3b",
   "metadata": {},
   "outputs": [],
   "source": [
    "# Create MP4\n",
    "mp4(a,\"Pi.mp4\")"
   ]
  },
  {
   "cell_type": "code",
   "execution_count": null,
   "id": "44e5e676",
   "metadata": {},
   "outputs": [],
   "source": []
  }
 ],
 "metadata": {
  "kernelspec": {
   "display_name": "Julia 1.10.3 1.10.3",
   "language": "julia",
   "name": "julia-1.10.3-1.10"
  },
  "language_info": {
   "file_extension": ".jl",
   "mimetype": "application/julia",
   "name": "julia",
   "version": "1.10.3"
  }
 },
 "nbformat": 4,
 "nbformat_minor": 5
}
