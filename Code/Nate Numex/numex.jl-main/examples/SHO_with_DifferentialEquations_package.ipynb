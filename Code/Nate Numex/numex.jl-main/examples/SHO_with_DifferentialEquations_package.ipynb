{
 "cells": [
  {
   "cell_type": "markdown",
   "id": "1dcdd128",
   "metadata": {},
   "source": [
    "### Simple Harmonic Oscillator\n",
    "\n",
    "This notebook solves a driven simple harmonic oscillator system written in first-order form,\n",
    "$$\n",
    "\\begin{aligned}\n",
    "\\dot u &= v\\\\\n",
    "\\dot v &= -100 u + 8\\cos(9t),\n",
    "\\end{aligned}\n",
    "$$\n",
    "using the `DifferentialEquations.jl` package in Julia.  This package is one of the best collections\n",
    "of ODE solvers available. This notebook demonstrates how easy it is to use.\n",
    "\n",
    "The solution vector is \n",
    "$$\n",
    "y = \\left(\\begin{array}{c} u\\\\ v\\end{array}\\right).\n",
    "$$"
   ]
  },
  {
   "cell_type": "code",
   "execution_count": 1,
   "id": "afcc8fd0",
   "metadata": {},
   "outputs": [],
   "source": [
    "using Plots\n",
    "using DifferentialEquations"
   ]
  },
  {
   "cell_type": "markdown",
   "id": "ad2c5195",
   "metadata": {},
   "source": [
    "#### Function to evaluate the RHS of the ODEs"
   ]
  },
  {
   "cell_type": "code",
   "execution_count": 2,
   "id": "ddd4c0a3",
   "metadata": {},
   "outputs": [
    {
     "data": {
      "text/plain": [
       "deq2! (generic function with 1 method)"
      ]
     },
     "execution_count": 2,
     "metadata": {},
     "output_type": "execute_result"
    }
   ],
   "source": [
    "function deq2!(du, u, p, t)\n",
    "    du[1] = u[2]\n",
    "    du[2] = -100.0*u[1] + 8.0*cos(9.0*t) \n",
    "end"
   ]
  },
  {
   "cell_type": "markdown",
   "id": "6c8836f3",
   "metadata": {},
   "source": [
    "#### Calculate the exact solutions\n",
    "\n",
    "These functions calculate the exact solution of $u$ (`fex2!`) and $v$ (`dfex2!`).  `ferr2!` calculates a normed error that can be plotted on log scales."
   ]
  },
  {
   "cell_type": "code",
   "execution_count": 3,
   "id": "279bbb16",
   "metadata": {},
   "outputs": [
    {
     "data": {
      "text/plain": [
       "ferr2! (generic function with 1 method)"
      ]
     },
     "execution_count": 3,
     "metadata": {},
     "output_type": "execute_result"
    }
   ],
   "source": [
    "function fex2!(f, p, t)\n",
    "    @. f = p[1]*cos(10.0*t) + p[2]*sin(10.0*t) + 8.0/19.0*cos(9.0*t)\n",
    "end\n",
    "function dfex2!(df, p, t)\n",
    "    @. df = -10.0*p[1]*sin(10.0*t) + 10.0*p[2]*cos(10.0*t) - 72.0/19.0*sin(9.0*t)\n",
    "end\n",
    "function ferr2!(e, fh, fex)\n",
    "    epsilon = 1.23453569899e-16\n",
    "    @. e = abs(fh - fex) + epsilon\n",
    "end"
   ]
  },
  {
   "cell_type": "markdown",
   "id": "cd2c2dc6",
   "metadata": {},
   "source": [
    "#### Set the initial data"
   ]
  },
  {
   "cell_type": "code",
   "execution_count": 4,
   "id": "90d8802b",
   "metadata": {},
   "outputs": [
    {
     "data": {
      "text/plain": [
       "2-element Vector{Float64}:\n",
       " 1.4210526315789473\n",
       " 0.0"
      ]
     },
     "execution_count": 4,
     "metadata": {},
     "output_type": "execute_result"
    }
   ],
   "source": [
    "p0 = [1.0, 0.0]\n",
    "u01 = [0.0]\n",
    "u02 = [0.0]\n",
    "t0 = [0.0]\n",
    "fex2!(u01, p0, t0)\n",
    "dfex2!(u02, p0, t0)\n",
    "u0 = [u01[1], u02[1]]"
   ]
  },
  {
   "cell_type": "markdown",
   "id": "00814b65",
   "metadata": {},
   "source": [
    "#### Define the ODE problem for the DifferentialEquations.jl package\n",
    "\n",
    "Notice that we integrate to $t=15$ here.  Using the Midpoint method with a fixed time step, we only went to $t=5$."
   ]
  },
  {
   "cell_type": "code",
   "execution_count": 5,
   "id": "74f2c088",
   "metadata": {},
   "outputs": [
    {
     "data": {
      "text/plain": [
       "\u001b[38;2;86;182;194mODEProblem\u001b[0m with uType \u001b[38;2;86;182;194mVector{Float64}\u001b[0m and tType \u001b[38;2;86;182;194mFloat64\u001b[0m. In-place: \u001b[38;2;86;182;194mtrue\u001b[0m\n",
       "timespan: (0.0, 15.0)\n",
       "u0: 2-element Vector{Float64}:\n",
       " 1.4210526315789473\n",
       " 0.0"
      ]
     },
     "execution_count": 5,
     "metadata": {},
     "output_type": "execute_result"
    }
   ],
   "source": [
    "tspan = (0.0, 15.0)\n",
    "prob = ODEProblem(deq2!, u0, tspan)"
   ]
  },
  {
   "cell_type": "markdown",
   "id": "530baa79",
   "metadata": {},
   "source": [
    "#### Define parameters for the ODE solver\n",
    "\n",
    "These parameters are used by the ODE integrator.  `alg` defines the method to use, `adapt` is either true or false, or adaptive or fixed time steps, respectively.  Finally, the solution is saved at intervals of `outdt`.  Internally, the algorithm uses smaller steps when necessary to meet the error tolerances set by `reltol` and `abstol`."
   ]
  },
  {
   "cell_type": "code",
   "execution_count": 6,
   "id": "5b4e0b6a",
   "metadata": {},
   "outputs": [
    {
     "data": {
      "text/plain": [
       "0.05"
      ]
     },
     "execution_count": 6,
     "metadata": {},
     "output_type": "execute_result"
    }
   ],
   "source": [
    "#alg = Midpoint()\n",
    "#alg = ABM54()\n",
    "alg = Vern9()\n",
    "#alg = RK4()\n",
    "#alg = Tsit5()\n",
    "adapt = true\n",
    "outdt = 0.05"
   ]
  },
  {
   "cell_type": "markdown",
   "id": "9ca9e48a",
   "metadata": {},
   "source": [
    "#### Call the ODE solver\n",
    "\n",
    "This is where the solution is calculated."
   ]
  },
  {
   "cell_type": "code",
   "execution_count": 7,
   "id": "f4012005",
   "metadata": {},
   "outputs": [],
   "source": [
    "sol = solve(prob, alg, reltol=1.0e-12, abstol=1.0e-12, adaptive=adapt, saveat=outdt);"
   ]
  },
  {
   "cell_type": "markdown",
   "id": "267af576",
   "metadata": {},
   "source": [
    "#### Plot solutions\n",
    "\n",
    "The exact solution for $u$ is calculated and compared to the numerical solution.  Using the high-order\n",
    "methods with adaptive time stepping means that the error is extremely small.  In this case I'm plotting only the exact solution."
   ]
  },
  {
   "cell_type": "code",
   "execution_count": 8,
   "id": "0d88755e",
   "metadata": {},
   "outputs": [],
   "source": [
    "tt = sol.t;\n",
    "ex1 = similar(tt)\n",
    "fex2!(ex1,p0,tt)\n",
    "uh = sol[1,:];"
   ]
  },
  {
   "cell_type": "code",
   "execution_count": null,
   "id": "aedd88c3",
   "metadata": {},
   "outputs": [],
   "source": [
    "plot(tt,ex1,\n",
    "    lw=2,\n",
    "    grid = :off,\n",
    "    xtickfont=font(12),\n",
    "    ytickfont=font(12),\n",
    "    guidefont=font(12),\n",
    "    linecolor=:blue,\n",
    "    legend=false)\n",
    "plot!(tt,uh,label=\"s16\",linecolor=:green,lw=2)"
   ]
  },
  {
   "cell_type": "markdown",
   "id": "83c47371",
   "metadata": {},
   "source": [
    "#### Plot the error in the numerical solution\n",
    "\n",
    "The error in the numerical solution is too small to be seen by eye in this example.  So we plot the difference, and see that it is below our tolerances of $10^{-12}$."
   ]
  },
  {
   "cell_type": "code",
   "execution_count": null,
   "id": "2e457035",
   "metadata": {},
   "outputs": [],
   "source": [
    "err1 = similar(uh)\n",
    "ferr2!(err1,uh,ex1)\n",
    "plot(tt, err1,label=\"u_err\")"
   ]
  },
  {
   "cell_type": "code",
   "execution_count": null,
   "id": "a4325806",
   "metadata": {},
   "outputs": [],
   "source": []
  }
 ],
 "metadata": {
  "kernelspec": {
   "display_name": "Julia 1.10.2",
   "language": "julia",
   "name": "julia-1.10"
  },
  "language_info": {
   "file_extension": ".jl",
   "mimetype": "application/julia",
   "name": "julia",
   "version": "1.10.2"
  }
 },
 "nbformat": 4,
 "nbformat_minor": 5
}
